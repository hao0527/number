{
 "cells": [
  {
   "cell_type": "code",
   "execution_count": 1,
   "metadata": {},
   "outputs": [],
   "source": [
    "import pandas as pd\n",
    "from PIL import Image\n",
    "import numpy as np\n",
    "import os\n",
    "import pickle"
   ]
  },
  {
   "cell_type": "code",
   "execution_count": 2,
   "metadata": {},
   "outputs": [],
   "source": [
    "def to_array(file):                                     # 输入一个地址\n",
    "    image = Image.open(file)                            # 读取图片\n",
    "    im_array = np.array(image)                          # 转换成array\n",
    "    return im_array"
   ]
  },
  {
   "cell_type": "code",
   "execution_count": 3,
   "metadata": {},
   "outputs": [],
   "source": [
    "df_train = pd.DataFrame({'img': [], 'label': []})  # 创建DataFrame\n",
    "df_test = pd.DataFrame({'img': [], 'label': []})"
   ]
  },
  {
   "cell_type": "code",
   "execution_count": 4,
   "metadata": {},
   "outputs": [],
   "source": [
    "for i in range(10):\n",
    "    for path in os.listdir('./MNIST_Dataset/train_images/' + str(i)):\n",
    "        img_file = './MNIST_Dataset/train_images/' + str(i) + '/' + path\n",
    "        df_train = df_train.append(pd.DataFrame({'img': [to_array(img_file)], 'label': [int(i)]}))"
   ]
  },
  {
   "cell_type": "code",
   "execution_count": 5,
   "metadata": {},
   "outputs": [],
   "source": [
    "for path in os.listdir('./MNIST_Dataset/test_images/'):\n",
    "    img_file = './MNIST_Dataset/test_images/' + path\n",
    "    df_test = df_test.append(pd.DataFrame({'img': [to_array(img_file)], 'label': [int(path[0])]}))"
   ]
  },
  {
   "cell_type": "code",
   "execution_count": 6,
   "metadata": {},
   "outputs": [],
   "source": [
    "df_train['label'] = df_train['label'].astype(\"int\")    # 转换label列为int\n",
    "df_test['label'] = df_test['label'].astype(\"int\")"
   ]
  },
  {
   "cell_type": "code",
   "execution_count": 7,
   "metadata": {},
   "outputs": [],
   "source": [
    "with open('save/train.pickle','wb')as f:    # save\n",
    "    pickle.dump(df_train,f)\n",
    "with open('save/test.pickle','wb')as f:\n",
    "    pickle.dump(df_test,f)  "
   ]
  },
  {
   "cell_type": "code",
   "execution_count": 8,
   "metadata": {},
   "outputs": [],
   "source": [
    "with open('save/train.pickle','rb')as f:    # restore\n",
    "    df1 = pickle.load(f)\n",
    "with open('save/test.pickle','rb')as f: \n",
    "    df2 = pickle.load(f)"
   ]
  },
  {
   "cell_type": "code",
   "execution_count": 9,
   "metadata": {},
   "outputs": [
    {
     "data": {
      "text/html": [
       "<div>\n",
       "<style scoped>\n",
       "    .dataframe tbody tr th:only-of-type {\n",
       "        vertical-align: middle;\n",
       "    }\n",
       "\n",
       "    .dataframe tbody tr th {\n",
       "        vertical-align: top;\n",
       "    }\n",
       "\n",
       "    .dataframe thead th {\n",
       "        text-align: right;\n",
       "    }\n",
       "</style>\n",
       "<table border=\"1\" class=\"dataframe\">\n",
       "  <thead>\n",
       "    <tr style=\"text-align: right;\">\n",
       "      <th></th>\n",
       "      <th>img</th>\n",
       "      <th>label</th>\n",
       "    </tr>\n",
       "  </thead>\n",
       "  <tbody>\n",
       "    <tr>\n",
       "      <td>0</td>\n",
       "      <td>[[0, 0, 0, 0, 0, 0, 0, 0, 0, 6, 0, 1, 0, 0, 0,...</td>\n",
       "      <td>0</td>\n",
       "    </tr>\n",
       "    <tr>\n",
       "      <td>0</td>\n",
       "      <td>[[0, 0, 0, 0, 0, 0, 0, 0, 0, 1, 0, 0, 0, 2, 0,...</td>\n",
       "      <td>0</td>\n",
       "    </tr>\n",
       "    <tr>\n",
       "      <td>0</td>\n",
       "      <td>[[0, 0, 0, 0, 0, 0, 0, 0, 0, 2, 0, 2, 1, 0, 2,...</td>\n",
       "      <td>0</td>\n",
       "    </tr>\n",
       "    <tr>\n",
       "      <td>0</td>\n",
       "      <td>[[0, 0, 0, 0, 0, 0, 0, 0, 0, 1, 0, 0, 1, 0, 0,...</td>\n",
       "      <td>0</td>\n",
       "    </tr>\n",
       "    <tr>\n",
       "      <td>0</td>\n",
       "      <td>[[0, 0, 0, 0, 0, 0, 0, 0, 0, 2, 0, 0, 2, 0, 0,...</td>\n",
       "      <td>0</td>\n",
       "    </tr>\n",
       "    <tr>\n",
       "      <td>...</td>\n",
       "      <td>...</td>\n",
       "      <td>...</td>\n",
       "    </tr>\n",
       "    <tr>\n",
       "      <td>0</td>\n",
       "      <td>[[0, 2, 1, 0, 1, 0, 1, 2, 0, 0, 0, 0, 2, 0, 0,...</td>\n",
       "      <td>9</td>\n",
       "    </tr>\n",
       "    <tr>\n",
       "      <td>0</td>\n",
       "      <td>[[0, 0, 0, 0, 0, 0, 0, 0, 0, 0, 0, 1, 1, 0, 0,...</td>\n",
       "      <td>9</td>\n",
       "    </tr>\n",
       "    <tr>\n",
       "      <td>0</td>\n",
       "      <td>[[0, 0, 0, 0, 0, 0, 0, 0, 1, 0, 0, 2, 1, 0, 0,...</td>\n",
       "      <td>9</td>\n",
       "    </tr>\n",
       "    <tr>\n",
       "      <td>0</td>\n",
       "      <td>[[0, 0, 0, 0, 0, 0, 0, 0, 0, 0, 1, 0, 2, 0, 0,...</td>\n",
       "      <td>9</td>\n",
       "    </tr>\n",
       "    <tr>\n",
       "      <td>0</td>\n",
       "      <td>[[0, 0, 0, 0, 0, 0, 0, 0, 0, 2, 0, 0, 1, 0, 2,...</td>\n",
       "      <td>9</td>\n",
       "    </tr>\n",
       "  </tbody>\n",
       "</table>\n",
       "<p>60000 rows × 2 columns</p>\n",
       "</div>"
      ],
      "text/plain": [
       "                                                  img  label\n",
       "0   [[0, 0, 0, 0, 0, 0, 0, 0, 0, 6, 0, 1, 0, 0, 0,...      0\n",
       "0   [[0, 0, 0, 0, 0, 0, 0, 0, 0, 1, 0, 0, 0, 2, 0,...      0\n",
       "0   [[0, 0, 0, 0, 0, 0, 0, 0, 0, 2, 0, 2, 1, 0, 2,...      0\n",
       "0   [[0, 0, 0, 0, 0, 0, 0, 0, 0, 1, 0, 0, 1, 0, 0,...      0\n",
       "0   [[0, 0, 0, 0, 0, 0, 0, 0, 0, 2, 0, 0, 2, 0, 0,...      0\n",
       "..                                                ...    ...\n",
       "0   [[0, 2, 1, 0, 1, 0, 1, 2, 0, 0, 0, 0, 2, 0, 0,...      9\n",
       "0   [[0, 0, 0, 0, 0, 0, 0, 0, 0, 0, 0, 1, 1, 0, 0,...      9\n",
       "0   [[0, 0, 0, 0, 0, 0, 0, 0, 1, 0, 0, 2, 1, 0, 0,...      9\n",
       "0   [[0, 0, 0, 0, 0, 0, 0, 0, 0, 0, 1, 0, 2, 0, 0,...      9\n",
       "0   [[0, 0, 0, 0, 0, 0, 0, 0, 0, 2, 0, 0, 1, 0, 2,...      9\n",
       "\n",
       "[60000 rows x 2 columns]"
      ]
     },
     "execution_count": 9,
     "metadata": {},
     "output_type": "execute_result"
    }
   ],
   "source": [
    "df1"
   ]
  },
  {
   "cell_type": "code",
   "execution_count": 11,
   "metadata": {},
   "outputs": [
    {
     "data": {
      "text/plain": [
       "(2,)"
      ]
     },
     "execution_count": 11,
     "metadata": {},
     "output_type": "execute_result"
    }
   ],
   "source": []
  },
  {
   "cell_type": "code",
   "execution_count": null,
   "metadata": {},
   "outputs": [],
   "source": []
  }
 ],
 "metadata": {
  "kernelspec": {
   "display_name": "Python 3",
   "language": "python",
   "name": "python3"
  },
  "language_info": {
   "codemirror_mode": {
    "name": "ipython",
    "version": 3
   },
   "file_extension": ".py",
   "mimetype": "text/x-python",
   "name": "python",
   "nbconvert_exporter": "python",
   "pygments_lexer": "ipython3",
   "version": "3.7.4"
  }
 },
 "nbformat": 4,
 "nbformat_minor": 2
}
